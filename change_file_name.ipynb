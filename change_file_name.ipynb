{
 "cells": [
  {
   "cell_type": "code",
   "execution_count": 3,
   "id": "002c19fe",
   "metadata": {},
   "outputs": [
    {
     "name": "stdout",
     "output_type": "stream",
     "text": [
      "images: 3201, labels: 3200\n"
     ]
    }
   ],
   "source": [
    "import os\n",
    "\n",
    "dataset_dir = \"./\"\n",
    "images_dir = os.path.join(dataset_dir, \"images\")\n",
    "labels_dir = os.path.join(dataset_dir, \"labels\")\n",
    "\n",
    "# 확장자 포함 파일 이름 가져오기\n",
    "image_files = os.listdir(images_dir)\n",
    "label_files = os.listdir(labels_dir)\n",
    "\n",
    "print(f\"images: {len(image_files)}, labels: {len(label_files)}\")"
   ]
  },
  {
   "cell_type": "code",
   "execution_count": 4,
   "id": "4951f92d",
   "metadata": {},
   "outputs": [
    {
     "name": "stdout",
     "output_type": "stream",
     "text": [
      "images 폴더에만 있는 파일 이름:\n",
      ".DS_Store\n",
      "\n",
      "labels 폴더에만 있는 파일 이름:\n"
     ]
    }
   ],
   "source": [
    "# images, labels 개수(짝) 안 맞을 때\n",
    "\n",
    "image_names = set(os.path.splitext(f)[0] for f in image_files)\n",
    "label_names = set(os.path.splitext(f)[0] for f in label_files)\n",
    "\n",
    "# images에만 있는 파일명, labels에만 있는 파일명\n",
    "images_only = image_names - label_names\n",
    "labels_only = label_names - image_names\n",
    "\n",
    "print(\"images 폴더에만 있는 파일 이름:\")\n",
    "for name in images_only:\n",
    "    print(name)\n",
    "\n",
    "print(\"\\nlabels 폴더에만 있는 파일 이름:\")\n",
    "for name in labels_only:\n",
    "    print(name)"
   ]
  },
  {
   "cell_type": "code",
   "execution_count": 5,
   "id": "fbacc5e9",
   "metadata": {},
   "outputs": [
    {
     "name": "stdout",
     "output_type": "stream",
     "text": [
      "3200\n"
     ]
    }
   ],
   "source": [
    "# 파일 이름(확장자 제외)으로 짝 매칭  \n",
    "image_names = {os.path.splitext(f)[0]: f for f in image_files}\n",
    "label_names = {os.path.splitext(f)[0]: f for f in label_files}\n",
    "\n",
    "# 공동으로 존재하는 파일 이름 추출\n",
    "matched_names = sorted(set(image_names.keys()) & set(label_names.keys()))\n",
    "\n",
    "print(len(matched_names))"
   ]
  },
  {
   "cell_type": "code",
   "execution_count": 6,
   "id": "f6abdaaf",
   "metadata": {},
   "outputs": [
    {
     "name": "stdout",
     "output_type": "stream",
     "text": [
      "이름 변경 완료!\n"
     ]
    }
   ],
   "source": [
    "for idx, name in enumerate(matched_names, start=1):\n",
    "    img_file = image_names[name]\n",
    "    lbl_file = label_names[name]\n",
    "    img_ext = os.path.splitext(img_file)[1]\n",
    "    lbl_ext = os.path.splitext(lbl_file)[1]\n",
    "    \n",
    "    new_img_name = f\"image_{idx}{img_ext}\"\n",
    "    new_lbl_name = f\"label_{idx}{lbl_ext}\"\n",
    "    \n",
    "    os.rename(os.path.join(images_dir, img_file), os.path.join(images_dir, new_img_name))\n",
    "    os.rename(os.path.join(labels_dir, lbl_file), os.path.join(labels_dir, new_lbl_name))\n",
    "\n",
    "print(\"이름 변경 완료!\")"
   ]
  }
 ],
 "metadata": {
  "kernelspec": {
   "display_name": "HC",
   "language": "python",
   "name": "python3"
  },
  "language_info": {
   "codemirror_mode": {
    "name": "ipython",
    "version": 3
   },
   "file_extension": ".py",
   "mimetype": "text/x-python",
   "name": "python",
   "nbconvert_exporter": "python",
   "pygments_lexer": "ipython3",
   "version": "3.13.7"
  }
 },
 "nbformat": 4,
 "nbformat_minor": 5
}
